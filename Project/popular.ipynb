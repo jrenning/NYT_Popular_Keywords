{
 "cells": [
  {
   "cell_type": "code",
   "execution_count": 15,
   "metadata": {},
   "outputs": [],
   "source": [
    "import config \n",
    "import requests \n",
    "from collections import Counter\n",
    "import matplotlib.pyplot as plt\n",
    "from matplotlib.pyplot import figure\n",
    "import re"
   ]
  },
  {
   "cell_type": "code",
   "execution_count": 2,
   "metadata": {},
   "outputs": [],
   "source": [
    "url = f'https://api.nytimes.com/svc/mostpopular/v2/viewed/1.json?api-key={config.API_KEY}'\n",
    "response1 = requests.get(url).json()"
   ]
  },
  {
   "cell_type": "markdown",
   "metadata": {},
   "source": [
    "## Sorting and Cleaning Functions "
   ]
  },
  {
   "cell_type": "code",
   "execution_count": null,
   "metadata": {},
   "outputs": [],
   "source": [
    "\n",
    "def sort_data(response,response_key,delimter=None):\n",
    "    response_list = []\n",
    "    # makes a list of the values given in the response \n",
    "    for i,_ in enumerate(response['results']):\n",
    "        response_list.append(response['results'][i][response_key])\n",
    "    \n",
    "    # for the keywords splits the dictinary apart, then the words\n",
    "    if response_key == 'adx_keywords':\n",
    "        response_string_list = str(response_list).split(delimter)\n",
    "        response_string_list = str(response_string_list).split()\n",
    "        return response_string_list\n",
    "    \n",
    "    return response_list\n",
    "    \n",
    "\n",
    "def clean_data(response_string_list):\n",
    "    \n",
    "    # makes a dictionary that has the count of suplicates for each string\n",
    "    keyword_count = dict(Counter(response_string_list))\n",
    "    \n",
    "    sorted_keyword_count = dict(sorted(keyword_count.items(),key=lambda item: item[1]))\n",
    "    \n",
    "    # removes keywords that are non-alphanumeric characters\n",
    "    for key in sorted_keyword_count.copy():\n",
    "        if re.search(\"^\\W\",key):\n",
    "            sorted_keyword_count.pop(key)\n",
    "        elif key == 'and' or key == 'of' or key=='the':\n",
    "            sorted_keyword_count.pop(key)\n",
    "                \n",
    "    return sorted_keyword_count"
   ]
  },
  {
   "cell_type": "markdown",
   "metadata": {},
   "source": [
    "# Popular Articles on New York Times"
   ]
  },
  {
   "cell_type": "code",
   "execution_count": null,
   "metadata": {},
   "outputs": [],
   "source": [
    "\n",
    "title_response_string_list = sort_data(response1,'title')\n",
    "\n",
    "print('Popular Titles')\n",
    "for i,_ in enumerate(title_response_string_list):\n",
    "    print(f'{i+1}. {title_response_string_list[i]}')"
   ]
  },
  {
   "cell_type": "markdown",
   "metadata": {},
   "source": [
    "# Keywords in Top 20 Most Popular NYT Articles"
   ]
  },
  {
   "cell_type": "code",
   "execution_count": 3,
   "metadata": {},
   "outputs": [],
   "source": [
    "# returns responses froim sort and clean fucntions\n",
    "keyword_response_string_list = sort_data(response1,'adx_keywords',';')\n",
    "sorted_keyword_count = clean_data(keyword_response_string_list)"
   ]
  },
  {
   "cell_type": "code",
   "execution_count": null,
   "metadata": {},
   "outputs": [],
   "source": [
    "# gets the keywords and number of occurances from list\n",
    "keys = list(sorted_keyword_count)[-10:]\n",
    "# removes non-alphanumeric charcters from the keys themselves\n",
    "keys = [re.sub(r'\\W','',key) for key in keys]   \n",
    "\n",
    "    \n",
    "values = list(sorted_keyword_count.values())[-10:]"
   ]
  },
  {
   "cell_type": "code",
   "execution_count": 31,
   "metadata": {},
   "outputs": [],
   "source": [
    "# prints popular keywords\n",
    "for i,_ in enumerate(keys):\n",
    "    print(f'{i+1}. {keys[-(i+1)]} was a keyword {values[-(i+1)]} times in the popular NYT articles today')\n"
   ]
  },
  {
   "cell_type": "code",
   "execution_count": null,
   "metadata": {},
   "outputs": [],
   "source": [
    "# makes graph of keyword occurance \n",
    "figure(figsize=(12,9), dpi=80)\n",
    "bar = plt.bar(keys,values)\n",
    "plt.xlabel('Key Words')\n",
    "plt.ylabel('Occurances of Word')\n",
    "plt.title('Most Popular Keywords in Top 20 NYT Articles Today')\n",
    "\n",
    "\n",
    "\n",
    "plt.show()"
   ]
  }
 ],
 "metadata": {
  "interpreter": {
   "hash": "992fc64b7a146aaa65599480f197c535e3debea66c88940c917d6f162a1cd62e"
  },
  "kernelspec": {
   "display_name": "Python 3.9.6 64-bit ('env': venv)",
   "language": "python",
   "name": "python3"
  },
  "language_info": {
   "name": "python",
   "version": "3.9.6"
  },
  "orig_nbformat": 4
 },
 "nbformat": 4,
 "nbformat_minor": 2
}
