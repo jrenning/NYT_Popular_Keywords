{
 "cells": [
  {
   "cell_type": "code",
   "execution_count": 15,
   "metadata": {},
   "outputs": [],
   "source": [
    "import config \n",
    "import requests \n",
    "from collections import Counter\n",
    "import matplotlib.pyplot as plt\n",
    "from matplotlib.pyplot import figure\n",
    "import re"
   ]
  },
  {
   "cell_type": "code",
   "execution_count": 2,
   "metadata": {},
   "outputs": [],
   "source": [
    "# can update this with your api key to get it to work \n",
    "url = f'https://api.nytimes.com/svc/mostpopular/v2/viewed/1.json?api-key={config.API_KEY}'\n",
    "response1 = requests.get(url).json()"
   ]
  },
  {
   "cell_type": "markdown",
   "metadata": {},
   "source": [
    "## Sorting and Cleaning Functions "
   ]
  },
  {
   "cell_type": "code",
   "execution_count": null,
   "metadata": {},
   "outputs": [],
   "source": [
    "\n",
    "def sort_data(response,response_key,delimter=None):\n",
    "    response_list = []\n",
    "    # makes a list of the values given in the response \n",
    "    for i,_ in enumerate(response['results']):\n",
    "        response_list.append(response['results'][i][response_key])\n",
    "    \n",
    "    # for the keywords splits the dictinary apart, then the words\n",
    "    if response_key == 'adx_keywords':\n",
    "        response_string_list = str(response_list).split(delimter)\n",
    "        response_string_list = str(response_string_list).split()\n",
    "        return response_string_list\n",
    "    \n",
    "    return response_list\n",
    "    \n",
    "\n",
    "def clean_data(response_string_list):\n",
    "    \n",
    "    # makes a dictionary that has the count of suplicates for each string\n",
    "    keyword_count = dict(Counter(response_string_list))\n",
    "    \n",
    "    sorted_keyword_count = dict(sorted(keyword_count.items(),key=lambda item: item[1],reverse=True))\n",
    "    \n",
    "    # removes keywords that are non-alphanumeric characters\n",
    "    for key in sorted_keyword_count.copy():\n",
    "        if re.search(\"^\\W\",key):\n",
    "            sorted_keyword_count.pop(key)\n",
    "        elif key == 'and' or key == 'of' or key=='the':\n",
    "            sorted_keyword_count.pop(key)\n",
    "                \n",
    "    return sorted_keyword_count"
   ]
  },
  {
   "cell_type": "markdown",
   "metadata": {},
   "source": [
    "# Popular Articles on New York Times"
   ]
  },
  {
   "cell_type": "code",
   "execution_count": null,
   "metadata": {},
   "outputs": [],
   "source": [
    "\n",
    "title_response_string_list = sort_data(response1,'title')\n",
    "\n",
    "print('Popular Titles')\n",
    "for i,_ in enumerate(title_response_string_list):\n",
    "    print(f'{i+1}. {title_response_string_list[i]}')"
   ]
  },
  {
   "cell_type": "markdown",
   "metadata": {},
   "source": [
    "# Keywords in Top 20 Most Popular NYT Articles"
   ]
  },
  {
   "cell_type": "code",
   "execution_count": 3,
   "metadata": {},
   "outputs": [],
   "source": [
    "# returns responses froim sort and clean fucntions\n",
    "keyword_response_string_list = sort_data(response1,'adx_keywords',';')\n",
    "sorted_keyword_count = clean_data(keyword_response_string_list)"
   ]
  },
  {
   "cell_type": "code",
   "execution_count": null,
   "metadata": {},
   "outputs": [],
   "source": [
    "def get_top_keywords(sorted_keyword_count,top_number):\n",
    "    # get last ten entries as list is sorted in reverse\n",
    "    top_keywords = list(sorted_keyword_count)[:top_number]\n",
    "    # remove symbols and other non-alphanumeric\n",
    "    top_keywords = [re.sub(r'\\W','',key) for key in top_keywords]   \n",
    "    # get top counts \n",
    "    top_counts = list(sorted_keyword_count.values())[:top_number]\n",
    "    \n",
    "    return top_keywords,top_counts"
   ]
  },
  {
   "cell_type": "code",
   "execution_count": 31,
   "metadata": {},
   "outputs": [],
   "source": [
    "# prints popular keywords\n",
    "TOP_NUMBER = 10\n",
    "top_keywords,top_counts = get_top_keywords(sorted_keyword_count,TOP_NUMBER)\n",
    "\n",
    "for i,_ in enumerate(top_keywords):\n",
    "    print(f'{i+1}. {top_keywords[i]} was a keyword {top_counts[i]} times in the {TOP_NUMBER} most popular NYT articles today')\n"
   ]
  },
  {
   "cell_type": "code",
   "execution_count": null,
   "metadata": {},
   "outputs": [],
   "source": [
    "# makes graph of keyword occurance \n",
    "figure(figsize=(12,9), dpi=80)\n",
    "bar = plt.bar(top_keywords,top_counts)\n",
    "plt.xlabel('Key Words')\n",
    "plt.ylabel('Occurances of Word')\n",
    "plt.title(f'Most Popular Keywords in Top {TOP_NUMBER} NYT Articles Today')\n",
    "\n",
    "\n",
    "\n",
    "plt.show()"
   ]
  }
 ],
 "metadata": {
  "interpreter": {
   "hash": "992fc64b7a146aaa65599480f197c535e3debea66c88940c917d6f162a1cd62e"
  },
  "kernelspec": {
   "display_name": "Python 3.9.6 64-bit ('env': venv)",
   "language": "python",
   "name": "python3"
  },
  "language_info": {
   "name": "python",
   "version": "3.9.6"
  },
  "orig_nbformat": 4
 },
 "nbformat": 4,
 "nbformat_minor": 2
}
