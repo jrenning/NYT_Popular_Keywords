{
 "cells": [
  {
   "cell_type": "code",
   "execution_count": 15,
   "metadata": {},
   "outputs": [],
   "source": [
    "import config \n",
    "import json\n",
    "import requests \n",
    "from collections import Counter\n",
    "import matplotlib.pyplot as plt\n",
    "from matplotlib.pyplot import figure\n",
    "import re"
   ]
  },
  {
   "cell_type": "code",
   "execution_count": 2,
   "metadata": {},
   "outputs": [],
   "source": [
    "url = f'https://api.nytimes.com/svc/mostpopular/v2/viewed/1.json?api-key={config.API_KEY}'\n",
    "response1 = requests.get(url).json()"
   ]
  },
  {
   "cell_type": "markdown",
   "metadata": {},
   "source": [
    "# Popular Articles on New York Times"
   ]
  },
  {
   "cell_type": "code",
   "execution_count": null,
   "metadata": {},
   "outputs": [],
   "source": [
    "popular_titles = []\n",
    "\n",
    "for i in range(len(response1['results'])):\n",
    "    popular_titles.append(response1['results'][i]['title'])"
   ]
  },
  {
   "cell_type": "code",
   "execution_count": null,
   "metadata": {},
   "outputs": [],
   "source": [
    "\n",
    "for i in range(len(popular_titles)):\n",
    "    print(f'{i+1}. {popular_titles[i]}')"
   ]
  },
  {
   "cell_type": "markdown",
   "metadata": {},
   "source": [
    "# Keywords in Top 20 Most Popular NYT Articles"
   ]
  },
  {
   "cell_type": "code",
   "execution_count": 3,
   "metadata": {},
   "outputs": [],
   "source": [
    "popular_keywords = []\n",
    "\n",
    "for i in range(len(response1['results'])):\n",
    "    popular_keywords.append(response1['results'][i]['adx_keywords'])"
   ]
  },
  {
   "cell_type": "code",
   "execution_count": null,
   "metadata": {},
   "outputs": [],
   "source": [
    "popular_keywords_list = []\n",
    "popular_keywords_list2 = []\n",
    "popular_keywords_list3 = []\n",
    "\n",
    "# seperate keywords wiht delimter of ;\n",
    "for i in range(len(popular_keywords)):\n",
    "    popular_keywords_list.append(popular_keywords[i].split(';'))\n",
    "\n",
    "# flatten lists generated into one master list\n",
    "for lists in popular_keywords_list:\n",
    "    for items in lists:\n",
    "        popular_keywords_list2.append(items)\n",
    "print(popular_keywords_list2)\n",
    "\n",
    "# Split any key word phrases into the individual words\n",
    "for i in range(len(popular_keywords_list2)):\n",
    "    popular_keywords_list3 += (popular_keywords_list2[i].split())"
   ]
  },
  {
   "cell_type": "code",
   "execution_count": 31,
   "metadata": {},
   "outputs": [],
   "source": [
    "# sort the keyword list \n",
    "popular_keywords_list3 = (sorted(popular_keywords_list3,reverse=True))\n",
    "\n",
    "# create a dictionary of words and number of times they're repeated\n",
    "keyword_count = dict(Counter(popular_keywords_list3))\n",
    "\n",
    "# sorts the dictionary by the key value, number of duplicates\n",
    "keyword_count2 = dict(sorted(keyword_count.items(),key=lambda item: item[1]))\n",
    "\n",
    "for key in keyword_count2.copy():\n",
    "    if re.search(\"^\\W\",key):\n",
    "        keyword_count2.pop(key)\n",
    "    elif key == 'and' or key == 'of':\n",
    "        keyword_count2.pop(key)\n",
    "\n",
    "\n",
    "keys = list(keyword_count2)[-10:]\n",
    "values = list(keyword_count2.values())[-10:]"
   ]
  },
  {
   "cell_type": "code",
   "execution_count": 32,
   "metadata": {},
   "outputs": [
    {
     "name": "stdout",
     "output_type": "stream",
     "text": [
      "1. States was a keyword 13 times in the popular NYT articles today\n",
      "2. Coronavirus was a keyword 11 times in the popular NYT articles today\n",
      "3. United was a keyword 10 times in the popular NYT articles today\n",
      "4. Government was a keyword 6 times in the popular NYT articles today\n",
      "5. Politics was a keyword 6 times in the popular NYT articles today\n",
      "6. Content was a keyword 5 times in the popular NYT articles today\n",
      "7. Type: was a keyword 5 times in the popular NYT articles today\n",
      "8. Variant was a keyword 5 times in the popular NYT articles today\n",
      "9. Immunization was a keyword 4 times in the popular NYT articles today\n",
      "10. Vaccination was a keyword 4 times in the popular NYT articles today\n"
     ]
    },
    {
     "data": {
      "text/plain": [
       "Text(0.5, 1.0, 'Most Popular Keywords in Top 20 NYT Articles')"
      ]
     },
     "execution_count": 32,
     "metadata": {},
     "output_type": "execute_result"
    },
    {
     "data": {
      "image/png": "[encoded data removed]",
      "text/plain": [
       "<Figure size 960x720 with 1 Axes>"
      ]
     },
     "metadata": {
      "needs_background": "light"
     },
     "output_type": "display_data"
    }
   ],
   "source": [
    "# prints a list of the top 10 keywords \n",
    "for i in range(len(keys)):\n",
    "    print(f'{i+1}. {keys[-(i+1)]} was a keyword {values[-(i+1)]} times in the popular NYT articles today')\n",
    "\n",
    "# creates a bar chart of the top 10 keywords \n",
    "figure(figsize=(12,9), dpi=80)\n",
    "bar = plt.bar(keys,values)\n",
    "plt.xlabel('Key Words',size=18)\n",
    "plt.ylabel('Occurances of Word',size=18)\n",
    "plt.title('Most Popular Keywords in Top 20 NYT Articles',size=20)"
   ]
  }
 ],
 "metadata": {
  "interpreter": {
   "hash": "992fc64b7a146aaa65599480f197c535e3debea66c88940c917d6f162a1cd62e"
  },
  "kernelspec": {
   "display_name": "Python 3.9.6 64-bit ('env': venv)",
   "language": "python",
   "name": "python3"
  },
  "language_info": {
   "name": "python",
   "version": "3.9.6"
  },
  "orig_nbformat": 4
 },
 "nbformat": 4,
 "nbformat_minor": 2
}
